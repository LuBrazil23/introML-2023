{
 "cells": [
  {
   "cell_type": "code",
   "execution_count": 2,
   "id": "37942c1b-3f11-4bd3-a123-e9bca986bcc8",
   "metadata": {},
   "outputs": [
    {
     "name": "stdout",
     "output_type": "stream",
     "text": [
      "3\n",
      "6\n",
      "8\n",
      "10\n"
     ]
    }
   ],
   "source": [
    "# Don't run me until you find the output first!\n",
    "a = 1\n",
    "b = 2\n",
    "c = \"Fish\"\n",
    "if a == 5:\n",
    "    print (\"1\")\n",
    "    if b == 1:\n",
    "        print(\"2\")\n",
    "# here comes an else-if \n",
    "elif a == 2 or c == \"Fish\":\n",
    "    print(\"3\")\n",
    "    \n",
    "    if b == 1:\n",
    "        print(\"4\")\n",
    "        if b == 2:\n",
    "            print(\"5\")\n",
    "    if b == 2:\n",
    "        print(\"6\")\n",
    "    if c == \"Fish\":\n",
    "        if a == 1:\n",
    "            if b == 100:\n",
    "                print(\"7\")\n",
    "            else:\n",
    "                print(\"8\")\n",
    "    elif a == 1:\n",
    "        print(\"9\")\n",
    "print (\"10\")"
   ]
  },
  {
   "cell_type": "code",
   "execution_count": 4,
   "id": "c3b3a16d-e9ab-46d9-b6f4-b0bc621a1dc8",
   "metadata": {},
   "outputs": [
    {
     "name": "stdout",
     "output_type": "stream",
     "text": [
      "6\n",
      "5\n",
      "4\n",
      "3\n",
      "2\n",
      "1\n",
      "0\n"
     ]
    }
   ],
   "source": [
    "for i in range(6,-1,-1):\n",
    "    print(i)"
   ]
  },
  {
   "cell_type": "code",
   "execution_count": 8,
   "id": "3b12b3fa-e3c1-49b4-9ce7-f39ed0591334",
   "metadata": {},
   "outputs": [
    {
     "name": "stdout",
     "output_type": "stream",
     "text": [
      "1: salmon\n",
      "2: trout\n",
      "3: parrot\n",
      "4: clown\n",
      "5: dory\n"
     ]
    }
   ],
   "source": [
    "fish_list = [\"salmon\", \"trout\", \"parrot\", \"clown\", \"dory\"]\n",
    "\n",
    "for item_index, fish in enumerate(fish_list):\n",
    "    print(f\"{1+item_index}: {fish}\")"
   ]
  },
  {
   "cell_type": "code",
   "execution_count": 9,
   "id": "0f231fea-e334-4d01-a54c-4ae57dbebe94",
   "metadata": {},
   "outputs": [
    {
     "name": "stdout",
     "output_type": "stream",
     "text": [
      "1 is <class 'int'>\n",
      "hi! is <class 'str'>\n",
      "0.312 is <class 'float'>\n",
      "3.0 is <class 'float'>\n",
      "(3+2j) is <class 'complex'>\n",
      "True is <class 'bool'>\n"
     ]
    }
   ],
   "source": [
    "# var_1 is first defined as an integer\n",
    "var_1 = 1\n",
    "print(f\"{var_1} is {type(var_1)}\")\n",
    "\n",
    "# var_1's type is changed to string\n",
    "var_1 = \"hi!\"\n",
    "print(f\"{var_1} is {type(var_1)}\")\n",
    "\n",
    "# more types\n",
    "var_1 = 0.312\n",
    "print(f\"{var_1} is {type(var_1)}\")\n",
    "var_1 = 3.\n",
    "print(f\"{var_1} is {type(var_1)}\")\n",
    "var_1 = 3+2j\n",
    "print(f\"{var_1} is {type(var_1)}\")\n",
    "var_1 = True\n",
    "print(f\"{var_1} is {type(var_1)}\")"
   ]
  },
  {
   "cell_type": "code",
   "execution_count": 12,
   "id": "9b2ba95b-7e3d-4e36-bc9d-ec7c0cd2ccdf",
   "metadata": {},
   "outputs": [
    {
     "name": "stdout",
     "output_type": "stream",
     "text": [
      "1.23 is <class 'float'>\n",
      "1.23 is <class 'str'>\n",
      "**\n"
     ]
    }
   ],
   "source": [
    "# From float to string\n",
    "var_4 = 1.23\n",
    "print(f\"{var_4} is {type(var_4)}\")\n",
    "var_4 = str(var_4)\n",
    "print(f\"{var_4} is {type(var_4)}\")\n",
    "print(\"**\")"
   ]
  },
  {
   "cell_type": "code",
   "execution_count": 17,
   "id": "f4d2d430-eae0-4ae5-a718-7ffa6e90cc17",
   "metadata": {},
   "outputs": [
    {
     "name": "stdout",
     "output_type": "stream",
     "text": [
      "a + b = 54\n",
      "a - b = 46\n",
      "a * b = 200\n",
      "a / b = 12.5\n",
      "a // b = 12\n",
      "a ** b = 6250000\n",
      "a % b = 2\n"
     ]
    }
   ],
   "source": [
    "a = 50\n",
    "b = 4\n",
    "print(f\"a + b = {a + b}\")\n",
    "print(f\"a - b = {a - b}\")\n",
    "print(f\"a * b = {a * b}\")\n",
    "print(f\"a / b = {a / b}\")\n",
    "print(f\"a // b = {a // b}\") # integer divison\n",
    "print(f\"a ** b = {a ** b}\") # power\n",
    "print(f\"a % b = {a % b}\") # modulo"
   ]
  },
  {
   "cell_type": "code",
   "execution_count": 18,
   "id": "e2b2d14d-6c0c-4fdb-a53b-0bcd894398b7",
   "metadata": {},
   "outputs": [
    {
     "name": "stdout",
     "output_type": "stream",
     "text": [
      "Life's but a walking shadow, a poor player,\n",
      "That struts and frets his hour upon the stage,\n",
      "And then is heard no more. It is a tale\n",
      "Told by an idiot, full of sound and fury,\n",
      "Signifying nothing.\n"
     ]
    }
   ],
   "source": [
    "a = 'Life\\'s but a walking shadow, a poor player,' \n",
    "print(a)\n",
    "a = \"That struts and frets his hour upon the stage,\"\n",
    "print(a)\n",
    "a = \"\"\"And then is heard no more. It is a tale\n",
    "Told by an idiot, full of sound and fury,\n",
    "Signifying nothing.\"\"\"\n",
    "print(a)"
   ]
  },
  {
   "cell_type": "code",
   "execution_count": 21,
   "id": "6fd6e5c7-6d97-42a8-8c62-854531164a83",
   "metadata": {},
   "outputs": [
    {
     "name": "stdout",
     "output_type": "stream",
     "text": [
      "list_1[-3] = c\n",
      "list_1[0:2] = ['a', 'b']\n",
      "list_1[:4:2] = ['a', 'c']\n",
      "list_1[::-1] = ['e', 'd', 'c', 'b', 'a']\n",
      "list_1[-4:-1] = ['b', 'c', 'd']\n"
     ]
    }
   ],
   "source": [
    "list_1 = [\"a\", \"b\", \"c\", \"d\", \"e\"]\n",
    "\n",
    "print(f\"list_1[-3] = {list_1[-3]}\")\n",
    "print(f\"list_1[0:2] = {list_1[0:2]}\")\n",
    "print(f\"list_1[:4:2] = {list_1[:4:2]}\")\n",
    "print(f\"list_1[::-1] = {list_1[::-1]}\")\n",
    "print(f\"list_1[-4:-1] = {list_1[-4:-1]}\")"
   ]
  },
  {
   "cell_type": "code",
   "execution_count": 29,
   "id": "4f6bc20b-a7d2-4ca6-83af-aa495412281a",
   "metadata": {},
   "outputs": [
    {
     "name": "stdout",
     "output_type": "stream",
     "text": [
      "list_1 before ['a', 'b', 'c', 'd', 'e']\n",
      "list_1 after ['a', 'b', 'c', 'd', 'e', 'Z']\n"
     ]
    }
   ],
   "source": [
    "list_1 = [\"a\", \"b\", \"c\", \"d\", \"e\"]\n",
    "print(f\"list_1 before {list_1}\")\n",
    "\n",
    "list_2 = list_1\n",
    "list_2.append(\"Z\")\n",
    "\n",
    "print(f\"list_1 after {list_1}\")"
   ]
  },
  {
   "cell_type": "code",
   "execution_count": 30,
   "id": "b5aa1bfd-b64c-4963-b7c8-9a39a688ebb1",
   "metadata": {},
   "outputs": [
    {
     "name": "stdout",
     "output_type": "stream",
     "text": [
      "list_1 before function ['a', 'b', 'c', 'd', 'e']\n",
      "list_1 after function ['a', 'b', 'c', 'd', 'e', 'Z']\n"
     ]
    }
   ],
   "source": [
    "# Case 2:\n",
    "\n",
    "list_1 = [\"a\", \"b\", \"c\", \"d\", \"e\"]\n",
    "print(f\"list_1 before function {list_1}\")\n",
    "\n",
    "def function_that_changes_list(input_list):\n",
    "    input_list.append(\"Z\")\n",
    "\n",
    "function_that_changes_list(list_1)\n",
    "\n",
    "print(f\"list_1 after function {list_1}\")"
   ]
  },
  {
   "cell_type": "code",
   "execution_count": 31,
   "id": "126016c2-b1ab-4eda-a6c0-5f0e14ff7256",
   "metadata": {},
   "outputs": [
    {
     "name": "stdout",
     "output_type": "stream",
     "text": [
      "list_1 before ['a', 'b', 'c', 'd', 'e']\n",
      "list_1 after ['a', 'b', 'c', 'd', 'e']\n",
      "**\n",
      "list_1 before function ['a', 'b', 'c', 'd', 'e']\n",
      "list_1 after function ['a', 'b', 'c', 'd', 'e']\n"
     ]
    }
   ],
   "source": [
    "# Case 1\n",
    "list_1 = [\"a\", \"b\", \"c\", \"d\", \"e\"]\n",
    "print(f\"list_1 before {list_1}\")\n",
    "\n",
    "list_2 = list_1.copy()\n",
    "list_2.append(\"Z\")\n",
    "\n",
    "print(f\"list_1 after {list_1}\")\n",
    "print(\"**\")\n",
    "\n",
    "# Case 2\n",
    "list_1 = [\"a\", \"b\", \"c\", \"d\", \"e\"]\n",
    "print(f\"list_1 before function {list_1}\")\n",
    "\n",
    "def function_that_changes_list(input_list):\n",
    "    input_list.append(\"Z\")\n",
    "\n",
    "list_2 = list_1.copy()\n",
    "function_that_changes_list(list_2)\n",
    "\n",
    "print(f\"list_1 after function {list_1}\")"
   ]
  },
  {
   "cell_type": "code",
   "execution_count": 41,
   "id": "e1f1ec0c-0069-48e6-b8af-13d9a0ecb140",
   "metadata": {},
   "outputs": [
    {
     "name": "stdout",
     "output_type": "stream",
     "text": [
      "Correct! :)\n"
     ]
    }
   ],
   "source": [
    "def function_is_palindrome(input_list):\n",
    "    is_palindrome = True\n",
    "    # Your code here\n",
    "    n = len(input_list)\n",
    "    for i in range(n):\n",
    "            if input_list[i] != input_list[-1-i]:\n",
    "                return False\n",
    "    return is_palindrome\n",
    "\n",
    "test_list_1 = [\"cat\", \"dog\", \"fish\", \"dog\", \"cat\"]\n",
    "res_1 = function_is_palindrome(test_list_1)\n",
    "\n",
    "test_list_2 = [\"cat\", \"dog\", \"fish\",  \"bird\", \"dog\", \"cat\"]\n",
    "res_2 = function_is_palindrome(test_list_2)\n",
    "\n",
    "test_list_3 = [\"cat\"]\n",
    "res_3 = function_is_palindrome(test_list_3)\n",
    "\n",
    "test_list_4 = [\"cat\", \"cat\"]\n",
    "res_4 = function_is_palindrome(test_list_4)\n",
    "\n",
    "if not (res_1 and not res_2 and res_3 and res_4):\n",
    "    print(\"Test failed\")\n",
    "else:\n",
    "    print(\"Correct! :)\")\n"
   ]
  },
  {
   "cell_type": "code",
   "execution_count": 43,
   "id": "79a6d09d-74fc-4130-b778-8950c8d48422",
   "metadata": {},
   "outputs": [
    {
     "name": "stdout",
     "output_type": "stream",
     "text": [
      "tuple_1 = ('wash', 'your', 'hands', 'with', 'soap')\n",
      "['here', 'comes', 'the', 'sun'] is <class 'list'>\n",
      "('here', 'comes', 'the', 'sun') is <class 'tuple'>\n",
      "['here', 'comes', 'the', 'sun'] is <class 'list'>\n"
     ]
    }
   ],
   "source": [
    "tuple_1 = (\"wash\", \"your\", \"hands\", \"with\", \"soap\")\n",
    "\n",
    "print(f\"tuple_1 = {tuple_1}\")\n",
    "\n",
    "#tuple_1[2] = (\"face\")\n",
    "\n",
    "sequence_1 = [\"here\", \"comes\", \"the\", \"sun\"]\n",
    "print(f\"{sequence_1} is {type(sequence_1)}\")\n",
    "\n",
    "\n",
    "# from list to tuple\n",
    "sequence_1 = tuple(sequence_1)\n",
    "print(f\"{sequence_1} is {type(sequence_1)}\")\n",
    "\n",
    "#from tuple to list\n",
    "sequence_1 = list(sequence_1)\n",
    "print(f\"{sequence_1} is {type(sequence_1)}\")"
   ]
  },
  {
   "cell_type": "code",
   "execution_count": null,
   "id": "644b0592-8478-4308-b2fe-01dfbb2c88f2",
   "metadata": {},
   "outputs": [],
   "source": []
  }
 ],
 "metadata": {
  "kernelspec": {
   "display_name": "Python 3 (ipykernel)",
   "language": "python",
   "name": "python3"
  },
  "language_info": {
   "codemirror_mode": {
    "name": "ipython",
    "version": 3
   },
   "file_extension": ".py",
   "mimetype": "text/x-python",
   "name": "python",
   "nbconvert_exporter": "python",
   "pygments_lexer": "ipython3",
   "version": "3.8.16"
  }
 },
 "nbformat": 4,
 "nbformat_minor": 5
}
